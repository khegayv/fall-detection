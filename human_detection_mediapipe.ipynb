{
 "cells": [
  {
   "cell_type": "code",
   "execution_count": null,
   "id": "04e98c34",
   "metadata": {},
   "outputs": [],
   "source": [
    "#pip install mediapipe opencv-python"
   ]
  },
  {
   "cell_type": "code",
   "execution_count": 1,
   "id": "292febbe",
   "metadata": {},
   "outputs": [],
   "source": [
    "import mediapipe as mp"
   ]
  },
  {
   "cell_type": "code",
   "execution_count": 2,
   "id": "acd523d8",
   "metadata": {},
   "outputs": [],
   "source": [
    "import pandas as pd\n",
    "import cv2"
   ]
  },
  {
   "cell_type": "code",
   "execution_count": 11,
   "id": "20891072",
   "metadata": {},
   "outputs": [],
   "source": [
    "video_path = \"nofall_new.avi\"\n",
    "cap = cv2.VideoCapture(video_path)"
   ]
  },
  {
   "cell_type": "code",
   "execution_count": 12,
   "id": "00b3b839",
   "metadata": {},
   "outputs": [],
   "source": [
    "mp_pose = mp.solutions.pose\n",
    "pose = mp_pose.Pose(static_image_mode=False, min_detection_confidence=0.3)"
   ]
  },
  {
   "cell_type": "code",
   "execution_count": 13,
   "id": "46a94f60",
   "metadata": {},
   "outputs": [
    {
     "name": "stdout",
     "output_type": "stream",
     "text": [
      "Saved as skeleton_lines.txt\n"
     ]
    }
   ],
   "source": [
    "output_txt = open(\"nofall_new.txt\", \"w\")\n",
    "\n",
    "frame_id = 0\n",
    "def get_coords(landmarks, idx):\n",
    "    pt = landmarks[idx]\n",
    "    return (pt.x, pt.y) if pt.visibility > 0.5 else (None, None)\n",
    "\n",
    "while cap.isOpened():\n",
    "    ret, frame = cap.read()\n",
    "    if not ret:\n",
    "        break\n",
    "\n",
    "    frame_rgb = cv2.cvtColor(frame, cv2.COLOR_BGR2RGB)\n",
    "    result = pose.process(frame_rgb)\n",
    "\n",
    "    if result.pose_landmarks:\n",
    "        lm = result.pose_landmarks.landmark\n",
    "\n",
    "        # Get torso\n",
    "        l_sh, r_sh = get_coords(lm, 11), get_coords(lm, 12)\n",
    "        l_hip, r_hip = get_coords(lm, 23), get_coords(lm, 24)\n",
    "        # Legs\n",
    "        l_knee, r_knee = get_coords(lm, 25), get_coords(lm, 26)\n",
    "        l_ankle, r_ankle = get_coords(lm, 27), get_coords(lm, 28)\n",
    "\n",
    "        if None not in l_sh + r_sh + l_hip + r_hip + l_knee + r_knee + l_ankle + r_ankle:\n",
    "            mid_sh = [(l_sh[0] + r_sh[0]) / 2, (l_sh[1] + r_sh[1]) / 2]\n",
    "            mid_hip = [(l_hip[0] + r_hip[0]) / 2, (l_hip[1] + r_hip[1]) / 2]\n",
    "\n",
    "            line = f\"{frame_id} {mid_sh[0]} {mid_sh[1]} {mid_hip[0]} {mid_hip[1]} \" \\\n",
    "                   f\"{l_hip[0]} {l_hip[1]} {r_hip[0]} {r_hip[1]} \" \\\n",
    "                   f\"{l_hip[0]} {l_hip[1]} {l_knee[0]} {l_knee[1]} {l_ankle[0]} {l_ankle[1]} \" \\\n",
    "                   f\"{r_hip[0]} {r_hip[1]} {r_knee[0]} {r_knee[1]} {r_ankle[0]} {r_ankle[1]}\\n\"\n",
    "            output_txt.write(line)\n",
    "\n",
    "    frame_id += 1\n",
    "\n",
    "cap.release()\n",
    "output_txt.close()\n",
    "pose.close()\n",
    "print(\"Saved as skeleton_lines.txt\")\n"
   ]
  },
  {
   "cell_type": "code",
   "execution_count": 10,
   "id": "79403f4b",
   "metadata": {},
   "outputs": [
    {
     "name": "stdout",
     "output_type": "stream",
     "text": [
      "🎥 Saved annotated_output.avi\n"
     ]
    }
   ],
   "source": [
    "cap = cv2.VideoCapture(video_path)\n",
    "frame_width = int(cap.get(3))\n",
    "frame_height = int(cap.get(4))\n",
    "fps = int(cap.get(cv2.CAP_PROP_FPS))\n",
    "\n",
    "# Output video writer\n",
    "out = cv2.VideoWriter('annotated_output.avi',\n",
    "                      cv2.VideoWriter_fourcc(*'XVID'),\n",
    "                      fps, (frame_width, frame_height))\n",
    "\n",
    "with open(\"skeleton_lines.txt\", \"r\") as f:\n",
    "    lines = f.readlines()\n",
    "\n",
    "def denorm(x, y, w, h):\n",
    "    return int(x * w), int(y * h)\n",
    "\n",
    "for i, line in enumerate(lines):\n",
    "    ret, frame = cap.read()\n",
    "    if not ret:\n",
    "        break\n",
    "\n",
    "    parts = list(map(float, line.strip().split()))\n",
    "    _, bx1, by1, bx2, by2, \\\n",
    "    lx1, ly1, rx1, ry1, \\\n",
    "    llh_x, llh_y, llk_x, llk_y, lla_x, lla_y, \\\n",
    "    rlh_x, rlh_y, rlk_x, rlk_y, rla_x, rla_y = parts\n",
    "\n",
    "    h, w, _ = frame.shape\n",
    "\n",
    "    # Body\n",
    "    cv2.line(frame, denorm(bx1, by1, w, h), denorm(bx2, by2, w, h), (255, 0, 0), 2)     # torso (blue)\n",
    "    cv2.line(frame, denorm(lx1, ly1, w, h), denorm(rx1, ry1, w, h), (0, 255, 0), 2)     # pelvis (green)\n",
    "\n",
    "    # Left leg\n",
    "    cv2.line(frame, denorm(llh_x, llh_y, w, h), denorm(llk_x, llk_y, w, h), (0, 255, 255), 2)\n",
    "    cv2.line(frame, denorm(llk_x, llk_y, w, h), denorm(lla_x, lla_y, w, h), (0, 255, 255), 2)\n",
    "\n",
    "    # Right leg\n",
    "    cv2.line(frame, denorm(rlh_x, rlh_y, w, h), denorm(rlk_x, rlk_y, w, h), (255, 255, 0), 2)\n",
    "    cv2.line(frame, denorm(rlk_x, rlk_y, w, h), denorm(rla_x, rla_y, w, h), (255, 255, 0), 2)\n",
    "\n",
    "    out.write(frame)\n",
    "\n",
    "cap.release()\n",
    "out.release()\n",
    "print(\"🎥 Saved annotated_output.avi\")"
   ]
  },
  {
   "cell_type": "code",
   "execution_count": null,
   "id": "8107e13b",
   "metadata": {},
   "outputs": [],
   "source": []
  },
  {
   "cell_type": "code",
   "execution_count": null,
   "id": "1438a89e",
   "metadata": {},
   "outputs": [],
   "source": []
  }
 ],
 "metadata": {
  "kernelspec": {
   "display_name": "new_env",
   "language": "python",
   "name": "python3"
  },
  "language_info": {
   "codemirror_mode": {
    "name": "ipython",
    "version": 3
   },
   "file_extension": ".py",
   "mimetype": "text/x-python",
   "name": "python",
   "nbconvert_exporter": "python",
   "pygments_lexer": "ipython3",
   "version": "3.10.16"
  }
 },
 "nbformat": 4,
 "nbformat_minor": 5
}
