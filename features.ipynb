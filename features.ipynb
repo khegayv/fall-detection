{
 "cells": [
  {
   "cell_type": "code",
   "execution_count": null,
   "metadata": {},
   "outputs": [],
   "source": [
    "import cv2\n",
    "import numpy as np\n",
    "import csv\n",
    "\n",
    "\n",
    "bg_subtractor = cv2.createBackgroundSubtractorMOG2()\n",
    "\n",
    "CSV_FILENAME = \"fall_detection_features.csv\"\n",
    "\n",
    "with open(CSV_FILENAME, mode='w', newline='') as file:\n",
    "    writer = csv.writer(file)\n",
    "    writer.writerow([\"Video\", \"Frame\", \"Bh\", \"Bw\", \"Br\", \"Cx\", \"Cy\", \"Ex\", \"Ey\", \"Hph\", \"Vph\", \"m00\", \"m11\", \"m02\", \"m20\", \"Eo\"])\n",
    "\n",
    "def extract_features(frame, bounding_box):\n",
    "    x, y, w, h = bounding_box\n",
    "    aspect_ratio = h / (w + 1e-5)  # Avoid division by zero\n",
    "    cx, cy = x + w // 2, y + h // 2  # Center of bounding box\n",
    "    \n",
    "    # Fit ellipse if possible\n",
    "    mask = np.zeros_like(frame, dtype=np.uint8)\n",
    "    mask[y:y+h, x:x+w] = 255\n",
    "    contours, _ = cv2.findContours(mask, cv2.RETR_EXTERNAL, cv2.CHAIN_APPROX_SIMPLE)\n",
    "    if contours and len(contours[0]) > 4:\n",
    "        ellipse = cv2.fitEllipse(contours[0])\n",
    "        ex, ey = ellipse[0]\n",
    "        orientation = ellipse[2]\n",
    "    else:\n",
    "        ex, ey, orientation = cx, cy, 0\n",
    "    \n",
    "    # Histogram projections\n",
    "    h_proj = np.sum(mask, axis=1)\n",
    "    v_proj = np.sum(mask, axis=0)\n",
    "    \n",
    "    # Compute moments\n",
    "    M = cv2.moments(mask, binaryImage=True)\n",
    "    m00 = M['m00']\n",
    "    m11 = M['m11'] / (m00 + 1e-5)\n",
    "    m02 = M['m02'] / (m00 + 1e-5)\n",
    "    m20 = M['m20'] / (m00 + 1e-5)\n",
    "    \n",
    "    return [h, w, aspect_ratio, cx, cy, ex, ey, np.sum(h_proj), np.sum(v_proj), m00, m11, m02, m20, orientation]\n"
   ]
  },
  {
   "cell_type": "code",
   "execution_count": null,
   "metadata": {},
   "outputs": [],
   "source": [
    "def process_video(video_path):\n",
    "    cap = cv2.VideoCapture(video_path)\n",
    "    video_name = video_path.split('/')[-1]  # Extract video filename\n",
    "    frame_count = 0\n",
    "    \n",
    "    with open(CSV_FILENAME, mode='a', newline='') as file:\n",
    "        writer = csv.writer(file)\n",
    "        \n",
    "        while cap.isOpened():\n",
    "            ret, frame = cap.read()\n",
    "            if not ret:\n",
    "                break\n",
    "            \n",
    "            gray = cv2.cvtColor(frame, cv2.COLOR_BGR2GRAY)\n",
    "            fg_mask = bg_subtractor.apply(gray)\n",
    "            \n",
    "            contours, _ = cv2.findContours(fg_mask, cv2.RETR_EXTERNAL, cv2.CHAIN_APPROX_SIMPLE)\n",
    "            if contours:\n",
    "                max_contour = max(contours, key=cv2.contourArea)\n",
    "                bounding_box = cv2.boundingRect(max_contour)\n",
    "                features = extract_features(gray, bounding_box)\n",
    "                writer.writerow([video_name, frame_count] + features)\n",
    "            \n",
    "            frame_count += 1\n",
    "    \n",
    "    cap.release()\n",
    "    print(f\"Processed {video_name} and saved results to {CSV_FILENAME}\")\n"
   ]
  },
  {
   "cell_type": "code",
   "execution_count": null,
   "metadata": {},
   "outputs": [],
   "source": [
    "video_files = [\"fall_video_1.mp4\", \"fall_video_2.mp4\"] \n",
    "for video in video_files:\n",
    "    process_video(video)"
   ]
  },
  {
   "cell_type": "code",
   "execution_count": null,
   "metadata": {},
   "outputs": [],
   "source": [
    "\n"
   ]
  }
 ],
 "metadata": {
  "kernelspec": {
   "display_name": "base",
   "language": "python",
   "name": "python3"
  },
  "language_info": {
   "name": "python",
   "version": "3.10.13"
  }
 },
 "nbformat": 4,
 "nbformat_minor": 2
}
