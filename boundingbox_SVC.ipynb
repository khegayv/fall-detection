{
 "cells": [
  {
   "cell_type": "code",
   "execution_count": 1,
   "metadata": {},
   "outputs": [],
   "source": [
    "import os\n",
    "import numpy as np\n",
    "import pandas as pd"
   ]
  },
  {
   "cell_type": "code",
   "execution_count": 3,
   "metadata": {},
   "outputs": [],
   "source": [
    "def extract_features_from_file(file_path):\n",
    "    \"\"\"\n",
    "    Extracts features from a single annotation file.\n",
    "    :param file_path: Path to the annotation file.\n",
    "    :return: List of extracted feature rows.\n",
    "    \"\"\"\n",
    "    with open(file_path, 'r') as file:\n",
    "        lines = file.readlines()\n",
    "    \n",
    "    # Extract fall labels from the first two lines\n",
    "    try:\n",
    "        fall_start, fall_end = map(int, lines[:2])  # Convert to int safely\n",
    "        is_fall = 1 if (fall_start, fall_end) != (0, 0) else 0\n",
    "    except ValueError:\n",
    "        print(f\"Warning: Skipping file {file_path} due to malformed first two lines.\")\n",
    "        return []\n",
    "    \n",
    "    # Process bounding box data\n",
    "    feature_rows = []\n",
    "    prev_center_x, prev_center_y = None, None\n",
    "    prev_velocity_x, prev_velocity_y = None, None\n",
    "    \n",
    "    for line in lines[2:]:\n",
    "        line = line.strip()\n",
    "        if not line:  # Skip empty lines\n",
    "            continue\n",
    "        \n",
    "        parts = line.split(',')\n",
    "        if len(parts) < 6:\n",
    "            print(f\"Warning: Skipping malformed line in {file_path}: {line}\")\n",
    "            continue  # Skip malformed lines\n",
    "        \n",
    "        try:\n",
    "            frame, person_id, x_min, y_min, x_max, y_max = map(int, parts)\n",
    "        except ValueError:\n",
    "            print(f\"Warning: Non-numeric values found in {file_path}: {line}\")\n",
    "            continue  # Skip lines with invalid numeric values\n",
    "\n",
    "        center_x = (x_min + x_max) / 2\n",
    "        center_y = (y_min + y_max) / 2\n",
    "        width = x_max - x_min\n",
    "        height = y_max - y_min\n",
    "        aspect_ratio = width / height if height != 0 else 0  # Avoid division by zero\n",
    "        \n",
    "        # Compute velocity\n",
    "        velocity_x = (center_x - prev_center_x) if prev_center_x is not None else 0\n",
    "        velocity_y = (center_y - prev_center_y) if prev_center_y is not None else 0\n",
    "        \n",
    "        # Compute acceleration\n",
    "        acceleration_x = (velocity_x - prev_velocity_x) if prev_velocity_x is not None else 0\n",
    "        acceleration_y = (velocity_y - prev_velocity_y) if prev_velocity_y is not None else 0\n",
    "        \n",
    "        feature_rows.append([file_path, frame, center_x, center_y, aspect_ratio,\n",
    "                             velocity_x, velocity_y, acceleration_x, acceleration_y, is_fall])\n",
    "        \n",
    "        prev_center_x, prev_center_y = center_x, center_y\n",
    "        prev_velocity_x, prev_velocity_y = velocity_x, velocity_y\n",
    "    \n",
    "    return feature_rows"
   ]
  },
  {
   "cell_type": "code",
   "execution_count": 4,
   "metadata": {},
   "outputs": [],
   "source": [
    "def process_all_annotation_files(folder_path):\n",
    "    \"\"\"\n",
    "    Processes all annotation files and compiles extracted features into a CSV file.\n",
    "    :param folder_path: Path to the folder containing annotation files.\n",
    "    \"\"\"\n",
    "    all_features = []\n",
    "    \n",
    "    for file_name in os.listdir(folder_path):\n",
    "        if file_name.endswith(\".txt\"):\n",
    "            file_path = os.path.join(folder_path, file_name)\n",
    "            features = extract_features_from_file(file_path)\n",
    "            all_features.extend(features)\n",
    "    \n",
    "    # Convert to DataFrame\n",
    "    df = pd.DataFrame(all_features, columns=[\n",
    "        'file_name', 'frame', 'center_x', 'center_y', 'aspect_ratio',\n",
    "        'velocity_x', 'velocity_y', 'acceleration_x', 'acceleration_y', 'fall_label'\n",
    "    ])\n",
    "    \n",
    "    # Save to CSV\n",
    "    output_csv = os.path.join(folder_path, \"extracted_features.csv\")\n",
    "    df.to_csv(output_csv, index=False)\n",
    "    print(f\"Feature extraction complete. Data saved to {output_csv}\")\n",
    "    \n",
    "    return df\n"
   ]
  },
  {
   "cell_type": "code",
   "execution_count": 5,
   "metadata": {},
   "outputs": [
    {
     "name": "stdout",
     "output_type": "stream",
     "text": [
      "Feature extraction complete. Data saved to C:/Users/Admin/Desktop/nofall/annotation_files\\extracted_features.csv\n"
     ]
    }
   ],
   "source": [
    "folder_path = \"C:/Users/Admin/Desktop/nofall/annotation_files\"\n",
    "dataset = process_all_annotation_files(folder_path)"
   ]
  },
  {
   "cell_type": "code",
   "execution_count": 7,
   "metadata": {},
   "outputs": [],
   "source": [
    "def extract_fall_moments(file_path):\n",
    "    \"\"\"\n",
    "    Extracts features only for fall moments from an annotation file.\n",
    "    :param file_path: Path to the annotation file.\n",
    "    :return: List of extracted feature rows.\n",
    "    \"\"\"\n",
    "    with open(file_path, 'r') as file:\n",
    "        lines = file.readlines()\n",
    "    \n",
    "    # Extract fall start and end frames from the first two lines\n",
    "    try:\n",
    "        fall_start, fall_end = map(int, lines[:2])\n",
    "        is_fall = 1 if (fall_start, fall_end) != (0, 0) else 0\n",
    "    except ValueError:\n",
    "        print(f\"Warning: Skipping file {file_path} due to malformed first two lines.\")\n",
    "        return []\n",
    "    \n",
    "    feature_rows = []\n",
    "    prev_center_x, prev_center_y = None, None\n",
    "    prev_velocity_x, prev_velocity_y = None, None\n",
    "    \n",
    "    for line in lines[2:]:\n",
    "        line = line.strip()\n",
    "        if not line:\n",
    "            continue\n",
    "        \n",
    "        parts = line.split(',')\n",
    "        if len(parts) < 6:\n",
    "            print(f\"Warning: Skipping malformed line in {file_path}: {line}\")\n",
    "            continue\n",
    "        \n",
    "        try:\n",
    "            frame, person_id, x_min, y_min, x_max, y_max = map(int, parts)\n",
    "        except ValueError:\n",
    "            print(f\"Warning: Non-numeric values found in {file_path}: {line}\")\n",
    "            continue\n",
    "        \n",
    "        # If fall is detected, only record frames within the fall range\n",
    "        if is_fall and not (fall_start <= frame <= fall_end):\n",
    "            continue\n",
    "        \n",
    "        center_x = (x_min + x_max) / 2\n",
    "        center_y = (y_min + y_max) / 2\n",
    "        width = x_max - x_min\n",
    "        height = y_max - y_min\n",
    "        aspect_ratio = width / height if height != 0 else 0  # Avoid division by zero\n",
    "        \n",
    "        # Compute velocity\n",
    "        velocity_x = (center_x - prev_center_x) if prev_center_x is not None else 0\n",
    "        velocity_y = (center_y - prev_center_y) if prev_center_y is not None else 0\n",
    "        \n",
    "        # Compute acceleration\n",
    "        acceleration_x = (velocity_x - prev_velocity_x) if prev_velocity_x is not None else 0\n",
    "        acceleration_y = (velocity_y - prev_velocity_y) if prev_velocity_y is not None else 0\n",
    "        \n",
    "        feature_rows.append([file_path, frame, center_x, center_y, aspect_ratio,\n",
    "                             velocity_x, velocity_y, acceleration_x, acceleration_y, is_fall])\n",
    "        \n",
    "        prev_center_x, prev_center_y = center_x, center_y\n",
    "        prev_velocity_x, prev_velocity_y = velocity_x, velocity_y\n",
    "    \n",
    "    return feature_rows"
   ]
  },
  {
   "cell_type": "code",
   "execution_count": 8,
   "metadata": {},
   "outputs": [],
   "source": [
    "def process_all_annotation_files2(folder_path):\n",
    "    \"\"\"\n",
    "    Processes all annotation files and compiles extracted features into a CSV file.\n",
    "    :param folder_path: Path to the folder containing annotation files.\n",
    "    \"\"\"\n",
    "    all_features = []\n",
    "    \n",
    "    for file_name in os.listdir(folder_path):\n",
    "        if file_name.endswith(\".txt\"):\n",
    "            file_path = os.path.join(folder_path, file_name)\n",
    "            features = extract_fall_moments(file_path)\n",
    "            all_features.extend(features)\n",
    "    \n",
    "    # Convert to DataFrame\n",
    "    df = pd.DataFrame(all_features, columns=[\n",
    "        'file_name', 'frame', 'center_x', 'center_y', 'aspect_ratio',\n",
    "        'velocity_x', 'velocity_y', 'acceleration_x', 'acceleration_y', 'fall_label'\n",
    "    ])\n",
    "    \n",
    "    # Save to CSV\n",
    "    output_csv = os.path.join(folder_path, \"extracted_fall_moments.csv\")\n",
    "    df.to_csv(output_csv, index=False)\n",
    "    print(f\"Feature extraction complete. Data saved to {output_csv}\")\n",
    "    \n",
    "    return df"
   ]
  },
  {
   "cell_type": "code",
   "execution_count": 9,
   "metadata": {},
   "outputs": [
    {
     "name": "stdout",
     "output_type": "stream",
     "text": [
      "Warning: Skipping file C:/Users/Admin/Desktop/fall/annotation_files\\video (39).txt due to malformed first two lines.\n",
      "Warning: Skipping file C:/Users/Admin/Desktop/fall/annotation_files\\video (66).txt due to malformed first two lines.\n",
      "Feature extraction complete. Data saved to C:/Users/Admin/Desktop/fall/annotation_files\\extracted_fall_moments.csv\n"
     ]
    }
   ],
   "source": [
    "folder_path = \"C:/Users/Admin/Desktop/fall/annotation_files\"\n",
    "dataset = process_all_annotation_files2(folder_path)"
   ]
  },
  {
   "cell_type": "code",
   "execution_count": 10,
   "metadata": {},
   "outputs": [],
   "source": [
    "import pandas as pd\n",
    "import numpy as np\n",
    "import matplotlib.pyplot as plt\n",
    "from sklearn.model_selection import train_test_split, learning_curve\n",
    "from sklearn.svm import SVC\n",
    "from sklearn.metrics import accuracy_score, classification_report, roc_curve, auc"
   ]
  },
  {
   "cell_type": "code",
   "execution_count": 11,
   "metadata": {},
   "outputs": [],
   "source": [
    "def plot_learning_curve(model, X, y):\n",
    "    \"\"\"Plots the learning curve of the SVM model.\"\"\"\n",
    "    train_sizes, train_scores, test_scores = learning_curve(model, X, y, cv=5, scoring='accuracy')\n",
    "    train_mean = np.mean(train_scores, axis=1)\n",
    "    test_mean = np.mean(test_scores, axis=1)\n",
    "    \n",
    "    plt.figure()\n",
    "    plt.plot(train_sizes, train_mean, 'o-', label='Training Accuracy')\n",
    "    plt.plot(train_sizes, test_mean, 'o-', label='Validation Accuracy')\n",
    "    plt.xlabel(\"Training Samples\")\n",
    "    plt.ylabel(\"Accuracy\")\n",
    "    plt.title(\"Learning Curve\")\n",
    "    plt.legend()\n",
    "    plt.grid()\n",
    "    plt.show()"
   ]
  },
  {
   "cell_type": "code",
   "execution_count": 12,
   "metadata": {},
   "outputs": [],
   "source": [
    "def plot_roc_curve(y_test, y_pred_prob):\n",
    "    \"\"\"Plots the ROC curve and computes AUC.\"\"\"\n",
    "    fpr, tpr, _ = roc_curve(y_test, y_pred_prob)\n",
    "    roc_auc = auc(fpr, tpr)\n",
    "    \n",
    "    plt.figure()\n",
    "    plt.plot(fpr, tpr, color='blue', lw=2, label=f'ROC Curve (AUC = {roc_auc:.2f})')\n",
    "    plt.plot([0, 1], [0, 1], color='gray', linestyle='--')\n",
    "    plt.xlabel(\"False Positive Rate\")\n",
    "    plt.ylabel(\"True Positive Rate\")\n",
    "    plt.title(\"Receiver Operating Characteristic (ROC) Curve\")\n",
    "    plt.legend()\n",
    "    plt.grid()\n",
    "    plt.show()"
   ]
  },
  {
   "cell_type": "code",
   "execution_count": 13,
   "metadata": {},
   "outputs": [],
   "source": [
    "def train_and_evaluate_svm(fall_csv, no_fall_csv):\n",
    "    \"\"\"\n",
    "    Loads fall and no-fall datasets, splits them into train/test sets, trains an SVM model, and evaluates it.\n",
    "    :param fall_csv: Path to CSV file containing fall case features.\n",
    "    :param no_fall_csv: Path to CSV file containing no-fall case features.\n",
    "    \"\"\"\n",
    "    # Load datasets\n",
    "    df_fall = pd.read_csv(fall_csv)\n",
    "    df_no_fall = pd.read_csv(no_fall_csv)\n",
    "    \n",
    "    # Combine both datasets\n",
    "    df = pd.concat([df_fall, df_no_fall], ignore_index=True)\n",
    "    \n",
    "    # Select features and labels\n",
    "    X = df[['center_x', 'center_y', 'aspect_ratio', 'velocity_x', 'velocity_y', 'acceleration_x', 'acceleration_y']]\n",
    "    y = df['fall_label']\n",
    "    \n",
    "    # Train/test split\n",
    "    X_train, X_test, y_train, y_test = train_test_split(X, y, test_size=0.2, random_state=42, stratify=y)\n",
    "    \n",
    "    # Train SVM model\n",
    "    model = SVC(kernel='rbf', C=1.0, gamma='scale', probability=True)\n",
    "    model.fit(X_train, y_train)\n",
    "    \n",
    "    # Predictions\n",
    "    y_pred = model.predict(X_test)\n",
    "    y_pred_prob = model.predict_proba(X_test)[:, 1]\n",
    "    \n",
    "    # Evaluation\n",
    "    accuracy = accuracy_score(y_test, y_pred)\n",
    "    report = classification_report(y_test, y_pred)\n",
    "    \n",
    "    print(f\"Model Accuracy: {accuracy:.4f}\")\n",
    "    print(\"Classification Report:\")\n",
    "    print(report)\n",
    "    \n",
    "    # Plot learning curve\n",
    "    plot_learning_curve(model, X, y)\n",
    "    \n",
    "    # Plot ROC curve\n",
    "    plot_roc_curve(y_test, y_pred_prob)\n",
    "    \n",
    "    return model"
   ]
  },
  {
   "cell_type": "code",
   "execution_count": 16,
   "metadata": {},
   "outputs": [
    {
     "name": "stdout",
     "output_type": "stream",
     "text": [
      "Model Accuracy: 0.9584\n",
      "Classification Report:\n",
      "              precision    recall  f1-score   support\n",
      "\n",
      "           0       0.93      1.00      0.96       459\n",
      "           1       0.99      0.92      0.95       406\n",
      "\n",
      "    accuracy                           0.96       865\n",
      "   macro avg       0.96      0.96      0.96       865\n",
      "weighted avg       0.96      0.96      0.96       865\n",
      "\n"
     ]
    },
    {
     "data": {
      "image/png": "[encoded data removed]",
      "text/plain": [
       "<Figure size 640x480 with 1 Axes>"
      ]
     },
     "metadata": {},
     "output_type": "display_data"
    },
    {
     "data": {
      "image/png": "[encoded data removed]",
      "text/plain": [
       "<Figure size 640x480 with 1 Axes>"
      ]
     },
     "metadata": {},
     "output_type": "display_data"
    }
   ],
   "source": [
    "fall_csv = \"fall_moments.csv\"\n",
    "no_fall_csv = \"no_fall_moments.csv\"\n",
    "model = train_and_evaluate_svm(fall_csv, no_fall_csv)"
   ]
  },
  {
   "cell_type": "code",
   "execution_count": 17,
   "metadata": {},
   "outputs": [],
   "source": [
    "import joblib \n",
    "from sklearn.preprocessing import StandardScaler"
   ]
  },
  {
   "cell_type": "code",
   "execution_count": 18,
   "metadata": {},
   "outputs": [
    {
     "data": {
      "text/plain": [
       "['svc_model.pkl']"
      ]
     },
     "execution_count": 18,
     "metadata": {},
     "output_type": "execute_result"
    }
   ],
   "source": [
    "joblib.dump(model, 'svc_model.pkl')"
   ]
  },
  {
   "cell_type": "code",
   "execution_count": 19,
   "metadata": {},
   "outputs": [],
   "source": [
    "svc_model = joblib.load('svc_model.pkl')"
   ]
  },
  {
   "cell_type": "code",
   "execution_count": 20,
   "metadata": {},
   "outputs": [],
   "source": [
    "features = extract_features_from_file(\"video1.txt\")"
   ]
  },
  {
   "cell_type": "code",
   "execution_count": 21,
   "metadata": {},
   "outputs": [],
   "source": [
    "columns = ['file_name', 'frame', 'center_x', 'center_y', 'aspect_ratio',\n",
    "           'velocity_x', 'velocity_y', 'acceleration_x', 'acceleration_y', 'is_fall']\n",
    "df = pd.DataFrame(features, columns=columns)"
   ]
  },
  {
   "cell_type": "code",
   "execution_count": 22,
   "metadata": {},
   "outputs": [],
   "source": [
    "X = df[['center_x', 'center_y', 'aspect_ratio', 'velocity_x', 'velocity_y', 'acceleration_x', 'acceleration_y']]"
   ]
  },
  {
   "cell_type": "code",
   "execution_count": 23,
   "metadata": {},
   "outputs": [],
   "source": [
    "predictions = svc_model.predict(X)"
   ]
  },
  {
   "cell_type": "code",
   "execution_count": 24,
   "metadata": {},
   "outputs": [],
   "source": [
    "df['predicted_fall'] = predictions\n",
    "fall_detected = any(predictions == 1)"
   ]
  },
  {
   "cell_type": "code",
   "execution_count": 25,
   "metadata": {},
   "outputs": [
    {
     "name": "stdout",
     "output_type": "stream",
     "text": [
      "   frame  predicted_fall\n",
      "0      1               0\n",
      "1      2               0\n",
      "2      3               0\n",
      "3      4               0\n",
      "4      5               0\n",
      "\n",
      "NO FALL detected\n"
     ]
    }
   ],
   "source": [
    "print(df[['frame', 'predicted_fall']].head())\n",
    "print(\"\\nFALL DETECTED\" if fall_detected else \"\\nNO FALL detected\")"
   ]
  }
 ],
 "metadata": {
  "kernelspec": {
   "display_name": "base",
   "language": "python",
   "name": "python3"
  },
  "language_info": {
   "codemirror_mode": {
    "name": "ipython",
    "version": 3
   },
   "file_extension": ".py",
   "mimetype": "text/x-python",
   "name": "python",
   "nbconvert_exporter": "python",
   "pygments_lexer": "ipython3",
   "version": "3.10.13"
  }
 },
 "nbformat": 4,
 "nbformat_minor": 2
}
