{
 "cells": [
  {
   "cell_type": "code",
   "execution_count": 1,
   "id": "19ecb970",
   "metadata": {},
   "outputs": [],
   "source": [
    "import cv2\n",
    "import mediapipe as mp"
   ]
  },
  {
   "cell_type": "code",
   "execution_count": 2,
   "id": "17272ab8",
   "metadata": {},
   "outputs": [],
   "source": [
    "import os\n",
    "import math"
   ]
  },
  {
   "cell_type": "code",
   "execution_count": 3,
   "id": "d67508d1",
   "metadata": {},
   "outputs": [],
   "source": [
    "input_folder = \"./input/test/nofall\"  # folder containing .avi files\n",
    "output_folder = \"./input/test/nofall_annotations\"\n",
    "os.makedirs(output_folder, exist_ok=True)"
   ]
  },
  {
   "cell_type": "code",
   "execution_count": 5,
   "id": "d74d1842",
   "metadata": {},
   "outputs": [],
   "source": [
    "mp_pose = mp.solutions.pose\n",
    "pose = mp_pose.Pose(static_image_mode=False, min_detection_confidence=0.24)"
   ]
  },
  {
   "cell_type": "code",
   "execution_count": 6,
   "id": "360b98b4",
   "metadata": {},
   "outputs": [],
   "source": [
    "def get_coords(landmarks, idx):\n",
    "    pt = landmarks[idx]\n",
    "    return (pt.x, pt.y) if pt.visibility > 0.5 else (None, None)"
   ]
  },
  {
   "cell_type": "code",
   "execution_count": 7,
   "id": "9cf0162c",
   "metadata": {},
   "outputs": [],
   "source": [
    "def is_valid(*coords):\n",
    "    for c in coords:\n",
    "        if c is None or c[0] is None or c[1] is None:\n",
    "            return False\n",
    "        if not isinstance(c[0], (float, int)) or not isinstance(c[1], (float, int)):\n",
    "            return False\n",
    "    return True"
   ]
  },
  {
   "cell_type": "code",
   "execution_count": 8,
   "id": "33439b9b",
   "metadata": {},
   "outputs": [],
   "source": [
    "def extract_pose_line(lm):\n",
    "    l_sh, r_sh = get_coords(lm, 11), get_coords(lm, 12)\n",
    "    l_hip, r_hip = get_coords(lm, 23), get_coords(lm, 24)\n",
    "    l_knee, r_knee = get_coords(lm, 25), get_coords(lm, 26)\n",
    "    l_ankle, r_ankle = get_coords(lm, 27), get_coords(lm, 28)\n",
    "\n",
    "    if not is_valid(l_sh, r_sh, l_hip, r_hip, l_knee, r_knee, l_ankle, r_ankle):\n",
    "        return None\n",
    "\n",
    "    mid_sh = [(l_sh[0] + r_sh[0]) / 2, (l_sh[1] + r_sh[1]) / 2]\n",
    "    mid_hip = [(l_hip[0] + r_hip[0]) / 2, (l_hip[1] + r_hip[1]) / 2]\n",
    "\n",
    "    line = mid_sh + mid_hip + list(l_hip) + list(r_hip) + list(l_hip) + list(l_knee) + list(l_ankle) + list(r_hip) + list(r_knee) + list(r_ankle)\n",
    "    return line"
   ]
  },
  {
   "cell_type": "code",
   "execution_count": 9,
   "id": "025a582b",
   "metadata": {},
   "outputs": [],
   "source": [
    "def process_video(video_path, output_txt_path):\n",
    "    cap = cv2.VideoCapture(video_path)\n",
    "    frame_id = 0\n",
    "\n",
    "    with open(output_txt_path, \"w\") as out_file:\n",
    "        out_file.write(\"0\\n0\\n\")  # First two lines\n",
    "\n",
    "        while cap.isOpened():\n",
    "            ret, frame = cap.read()\n",
    "            if not ret:\n",
    "                break\n",
    "\n",
    "            frame_rgb = cv2.cvtColor(frame, cv2.COLOR_BGR2RGB)\n",
    "            result = pose.process(frame_rgb)\n",
    "\n",
    "            if result.pose_landmarks:\n",
    "                lm = result.pose_landmarks.landmark\n",
    "                pose_line = extract_pose_line(lm)\n",
    "                if pose_line:\n",
    "                    out_file.write(f\"{frame_id} \" + \" \".join([f\"{v:.6f}\" for v in pose_line]) + \"\\n\")\n",
    "                else:\n",
    "                    out_file.write(f\"{frame_id} \" + \" \".join([\"-1\"] * 20) + \"\\n\")\n",
    "            else:\n",
    "                out_file.write(f\"{frame_id} \" + \" \".join([\"-1\"] * 20) + \"\\n\")\n",
    "\n",
    "            frame_id += 1\n",
    "\n",
    "    cap.release()"
   ]
  },
  {
   "cell_type": "code",
   "execution_count": 10,
   "id": "0094f2d2",
   "metadata": {},
   "outputs": [
    {
     "name": "stdout",
     "output_type": "stream",
     "text": [
      "🔍 Processing video (1).avi → video (1).txt\n",
      "🔍 Processing video (10).avi → video (10).txt\n",
      "🔍 Processing video (11).avi → video (11).txt\n",
      "🔍 Processing video (12).avi → video (12).txt\n",
      "🔍 Processing video (13).avi → video (13).txt\n",
      "🔍 Processing video (14).avi → video (14).txt\n",
      "🔍 Processing video (15).avi → video (15).txt\n",
      "🔍 Processing video (16).avi → video (16).txt\n",
      "🔍 Processing video (17).avi → video (17).txt\n",
      "🔍 Processing video (18).avi → video (18).txt\n",
      "🔍 Processing video (19).avi → video (19).txt\n",
      "🔍 Processing video (2).avi → video (2).txt\n",
      "🔍 Processing video (20).avi → video (20).txt\n",
      "🔍 Processing video (21).avi → video (21).txt\n",
      "🔍 Processing video (22).avi → video (22).txt\n",
      "🔍 Processing video (23).avi → video (23).txt\n",
      "🔍 Processing video (24).avi → video (24).txt\n",
      "🔍 Processing video (25).avi → video (25).txt\n",
      "🔍 Processing video (26).avi → video (26).txt\n",
      "🔍 Processing video (27).avi → video (27).txt\n",
      "🔍 Processing video (28).avi → video (28).txt\n",
      "🔍 Processing video (29).avi → video (29).txt\n",
      "🔍 Processing video (3).avi → video (3).txt\n",
      "🔍 Processing video (30).avi → video (30).txt\n",
      "🔍 Processing video (31).avi → video (31).txt\n",
      "🔍 Processing video (32).avi → video (32).txt\n",
      "🔍 Processing video (33).avi → video (33).txt\n",
      "🔍 Processing video (34).avi → video (34).txt\n",
      "🔍 Processing video (35).avi → video (35).txt\n",
      "🔍 Processing video (36).avi → video (36).txt\n",
      "🔍 Processing video (37).avi → video (37).txt\n",
      "🔍 Processing video (38).avi → video (38).txt\n",
      "🔍 Processing video (39).avi → video (39).txt\n",
      "🔍 Processing video (4).avi → video (4).txt\n",
      "🔍 Processing video (40).avi → video (40).txt\n",
      "🔍 Processing video (41).avi → video (41).txt\n",
      "🔍 Processing video (42).avi → video (42).txt\n",
      "🔍 Processing video (43).avi → video (43).txt\n",
      "🔍 Processing video (44).avi → video (44).txt\n",
      "🔍 Processing video (45).avi → video (45).txt\n",
      "🔍 Processing video (46).avi → video (46).txt\n",
      "🔍 Processing video (5).avi → video (5).txt\n",
      "🔍 Processing video (6).avi → video (6).txt\n",
      "🔍 Processing video (7).avi → video (7).txt\n",
      "🔍 Processing video (8).avi → video (8).txt\n",
      "🔍 Processing video (9).avi → video (9).txt\n",
      "✅ All videos processed.\n"
     ]
    }
   ],
   "source": [
    "for file in os.listdir(input_folder):\n",
    "    if file.lower().endswith(\".avi\"):\n",
    "        input_path = os.path.join(input_folder, file)\n",
    "        output_path = os.path.join(output_folder, os.path.splitext(file)[0] + \".txt\")\n",
    "        print(f\"🔍 Processing {file} → {os.path.basename(output_path)}\")\n",
    "        process_video(input_path, output_path)\n",
    "pose.close()\n",
    "print(\"✅ All videos processed.\")"
   ]
  },
  {
   "cell_type": "code",
   "execution_count": 28,
   "id": "30431cdc",
   "metadata": {},
   "outputs": [],
   "source": [
    "def draw_lines_on_video(video_path, txt_path, output_path):\n",
    "    cap = cv2.VideoCapture(video_path)\n",
    "    frame_width = int(cap.get(3))\n",
    "    frame_height = int(cap.get(4))\n",
    "    fps = int(cap.get(cv2.CAP_PROP_FPS))\n",
    "\n",
    "    out = cv2.VideoWriter(output_path,\n",
    "                          cv2.VideoWriter_fourcc(*'XVID'),\n",
    "                          fps, (frame_width, frame_height))\n",
    "\n",
    "    # Read annotation file\n",
    "    with open(txt_path, \"r\") as f:\n",
    "        lines = f.readlines()\n",
    "\n",
    "    lines = lines[2:]  # skip first two '0' lines\n",
    "\n",
    "    def norm_to_px(x, y):\n",
    "        return int(x * frame_width), int(y * frame_height)\n",
    "\n",
    "    for i, line in enumerate(lines):\n",
    "        ret, frame = cap.read()\n",
    "        if not ret:\n",
    "            break\n",
    "\n",
    "        parts = list(map(float, line.strip().split()))\n",
    "        if len(parts) < 21 or parts[1] == -1:\n",
    "            out.write(frame)\n",
    "            continue\n",
    "\n",
    "        # Unpack values\n",
    "        _, bx1, by1, bx2, by2, \\\n",
    "        lx1, ly1, rx1, ry1, \\\n",
    "        llh_x, llh_y, llk_x, llk_y, lla_x, lla_y, \\\n",
    "        rlh_x, rlh_y, rlk_x, rlk_y, rla_x, rla_y = parts\n",
    "\n",
    "        # Draw torso\n",
    "        cv2.line(frame, norm_to_px(bx1, by1), norm_to_px(bx2, by2), (255, 0, 0), 2)\n",
    "        # Draw pelvis\n",
    "        cv2.line(frame, norm_to_px(lx1, ly1), norm_to_px(rx1, ry1), (0, 255, 0), 2)\n",
    "        # Left leg: hip → knee → ankle\n",
    "        cv2.line(frame, norm_to_px(llh_x, llh_y), norm_to_px(llk_x, llk_y), (0, 255, 255), 2)\n",
    "        cv2.line(frame, norm_to_px(llk_x, llk_y), norm_to_px(lla_x, lla_y), (0, 255, 255), 2)\n",
    "        # Right leg\n",
    "        cv2.line(frame, norm_to_px(rlh_x, rlh_y), norm_to_px(rlk_x, rlk_y), (255, 255, 0), 2)\n",
    "        cv2.line(frame, norm_to_px(rlk_x, rlk_y), norm_to_px(rla_x, rla_y), (255, 255, 0), 2)\n",
    "\n",
    "        out.write(frame)\n",
    "\n",
    "    cap.release()\n",
    "    out.release()\n",
    "    print(f\"✅ Saved: {output_path}\")"
   ]
  },
  {
   "cell_type": "code",
   "execution_count": null,
   "id": "4f27595d",
   "metadata": {},
   "outputs": [],
   "source": []
  }
 ],
 "metadata": {
  "kernelspec": {
   "display_name": "new_env",
   "language": "python",
   "name": "python3"
  },
  "language_info": {
   "codemirror_mode": {
    "name": "ipython",
    "version": 3
   },
   "file_extension": ".py",
   "mimetype": "text/x-python",
   "name": "python",
   "nbconvert_exporter": "python",
   "pygments_lexer": "ipython3",
   "version": "3.10.16"
  }
 },
 "nbformat": 4,
 "nbformat_minor": 5
}
